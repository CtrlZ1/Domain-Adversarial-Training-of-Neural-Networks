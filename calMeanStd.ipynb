{
 "cells": [
  {
   "cell_type": "code",
   "execution_count": 4,
   "metadata": {
    "ExecuteTime": {
     "end_time": "2018-06-29T15:06:20.786194Z",
     "start_time": "2018-06-29T15:06:20.781623Z"
    },
    "collapsed": true
   },
   "outputs": [],
   "source": [
    "from PIL import Image\n",
    "import os\n",
    "import cv2\n",
    "import numpy as np"
   ]
  },
  {
   "cell_type": "code",
   "execution_count": 3,
   "metadata": {
    "ExecuteTime": {
     "end_time": "2018-06-29T15:06:05.603734Z",
     "start_time": "2018-06-29T15:06:00.622267Z"
    }
   },
   "outputs": [],
   "source": [
    "imagelist=[]\n",
    "for i in os.listdir('./mnist_m/mnist_m_train'):\n",
    "    a = cv2.imread('./mnist_m/mnist_m_train/'+i)\n",
    "    imagelist.append(a)"
   ]
  },
  {
   "cell_type": "code",
   "execution_count": 8,
   "metadata": {
    "ExecuteTime": {
     "end_time": "2018-06-29T15:07:21.487422Z",
     "start_time": "2018-06-29T15:07:21.339623Z"
    }
   },
   "outputs": [
    {
     "data": {
      "text/plain": [
       "(59001, 32, 32, 3)"
      ]
     },
     "execution_count": 8,
     "metadata": {},
     "output_type": "execute_result"
    }
   ],
   "source": [
    "imagelist = np.stack(imagelist)\n",
    "imagelist.shape"
   ]
  },
  {
   "cell_type": "code",
   "execution_count": 10,
   "metadata": {
    "ExecuteTime": {
     "end_time": "2018-06-29T15:07:34.729583Z",
     "start_time": "2018-06-29T15:07:34.347698Z"
    }
   },
   "outputs": [
    {
     "data": {
      "text/plain": [
       "(255, 0)"
      ]
     },
     "execution_count": 10,
     "metadata": {},
     "output_type": "execute_result"
    }
   ],
   "source": [
    "imagelist.max(),imagelist.min()"
   ]
  },
  {
   "cell_type": "code",
   "execution_count": 13,
   "metadata": {
    "ExecuteTime": {
     "end_time": "2018-06-29T15:09:14.097551Z",
     "start_time": "2018-06-29T15:09:13.107733Z"
    },
    "collapsed": true
   },
   "outputs": [],
   "source": [
    "imagelist = imagelist/imagelist.max()"
   ]
  },
  {
   "cell_type": "code",
   "execution_count": 15,
   "metadata": {
    "ExecuteTime": {
     "end_time": "2018-06-29T15:10:05.425147Z",
     "start_time": "2018-06-29T15:10:05.125829Z"
    }
   },
   "outputs": [
    {
     "data": {
      "text/plain": [
       "(0.40824443831346119, 0.46209181664543181, 0.45790558913705282)"
      ]
     },
     "execution_count": 15,
     "metadata": {},
     "output_type": "execute_result"
    }
   ],
   "source": [
    "imagelist[:,:,:,0].mean(),imagelist[:,:,:,1].mean(),imagelist[:,:,:,2].mean()"
   ]
  },
  {
   "cell_type": "code",
   "execution_count": 16,
   "metadata": {
    "ExecuteTime": {
     "end_time": "2018-06-29T15:10:12.939743Z",
     "start_time": "2018-06-29T15:10:11.580527Z"
    }
   },
   "outputs": [
    {
     "data": {
      "text/plain": [
       "(0.25870560685997501, 0.23677806687215142, 0.25194991442789383)"
      ]
     },
     "execution_count": 16,
     "metadata": {},
     "output_type": "execute_result"
    }
   ],
   "source": [
    "imagelist[:,:,:,0].std(),imagelist[:,:,:,1].std(),imagelist[:,:,:,2].std()"
   ]
  },
  {
   "cell_type": "code",
   "execution_count": null,
   "metadata": {
    "collapsed": true
   },
   "outputs": [],
   "source": []
  }
 ],
 "metadata": {
  "kernelspec": {
   "display_name": "Python 3",
   "language": "python",
   "name": "python3"
  },
  "language_info": {
   "codemirror_mode": {
    "name": "ipython",
    "version": 3
   },
   "file_extension": ".py",
   "mimetype": "text/x-python",
   "name": "python",
   "nbconvert_exporter": "python",
   "pygments_lexer": "ipython3",
   "version": "3.6.3"
  }
 },
 "nbformat": 4,
 "nbformat_minor": 2
}
