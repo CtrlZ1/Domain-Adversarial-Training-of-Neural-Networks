{
 "cells": [
  {
   "cell_type": "code",
   "execution_count": 1,
   "metadata": {
    "ExecuteTime": {
     "end_time": "2018-06-29T16:30:33.458683Z",
     "start_time": "2018-06-29T16:30:33.044277Z"
    }
   },
   "outputs": [],
   "source": [
    "from __future__ import print_function\n",
    "import argparse\n",
    "import torch\n",
    "import torch.nn as nn\n",
    "import torch.nn.functional as F\n",
    "import torch.optim as optim\n",
    "from torchvision import datasets, transforms\n",
    "import numpy as np\n",
    "import torch.utils.data as utils\n",
    "import time\n",
    "import os\n",
    "import torch.nn as nn\n",
    "from torch.autograd import Function\n",
    "import torchvision\n",
    "import torch.utils.data as data\n",
    "from PIL import Image\n",
    "import os"
   ]
  },
  {
   "cell_type": "code",
   "execution_count": 2,
   "metadata": {
    "ExecuteTime": {
     "end_time": "2018-06-29T16:30:33.466446Z",
     "start_time": "2018-06-29T16:30:33.460699Z"
    },
    "collapsed": true
   },
   "outputs": [],
   "source": [
    "class GRL(Function):\n",
    "    @staticmethod\n",
    "    def forward(ctx, tensor, constant):\n",
    "        ctx.constant = constant\n",
    "        return tensor * constant\n",
    "    @staticmethod\n",
    "    def backward(ctx, grad_output):\n",
    "        return grad_output.neg() * ctx.constant, None"
   ]
  },
  {
   "cell_type": "code",
   "execution_count": 3,
   "metadata": {
    "ExecuteTime": {
     "end_time": "2018-06-29T16:30:33.626042Z",
     "start_time": "2018-06-29T16:30:33.468196Z"
    },
    "collapsed": true
   },
   "outputs": [],
   "source": [
    "class Dann(nn.Module):\n",
    "    def __init__(self):\n",
    "        super(Dann, self).__init__()\n",
    "        self.f = nn.Sequential(\n",
    "                nn.Conv2d(3, 64, kernel_size=5,padding=2),\n",
    "                nn.BatchNorm2d(64),\n",
    "                nn.ReLU(),\n",
    "                nn.Conv2d(64, 64, kernel_size=3,padding=1,stride=2),\n",
    "                nn.BatchNorm2d(64),\n",
    "                nn.ReLU(),\n",
    "                nn.Conv2d(64, 64, kernel_size=3,padding=1),\n",
    "                nn.BatchNorm2d(64),\n",
    "                nn.ReLU(),\n",
    "                nn.Conv2d(64, 64, kernel_size=3,padding=1,stride=2),\n",
    "                nn.BatchNorm2d(64),\n",
    "                nn.ReLU(),\n",
    "                nn.Conv2d(64, 64, kernel_size=3,padding=1),\n",
    "                nn.AvgPool2d(7)\n",
    "            )\n",
    "\n",
    "        self.lc = nn.Conv2d(64,10,1,1)\n",
    "        self.dc = nn.Conv2d(64,2,1,1)\n",
    "    def forward(self, x):\n",
    "        x = self.f(x)\n",
    "        y = GRL.apply(x, 0.5)\n",
    "        x = self.lc(x)\n",
    "        y = self.dc(y)\n",
    "        x=x.view(x.shape[0],-1)\n",
    "        y=y.view(y.shape[0],-1)\n",
    "        return x, y"
   ]
  },
  {
   "cell_type": "code",
   "execution_count": 4,
   "metadata": {
    "ExecuteTime": {
     "end_time": "2018-06-29T16:30:33.766847Z",
     "start_time": "2018-06-29T16:30:33.628045Z"
    }
   },
   "outputs": [],
   "source": [
    "source_train = torch.utils.data.DataLoader(\n",
    "        datasets.MNIST('./', train=True, download=False,\n",
    "                       transform=transforms.Compose([\n",
    "                           transforms.ToTensor(),\n",
    "                           transforms.Normalize((0.1307,), (0.3081,)),\n",
    "                           transforms.Lambda(lambda x: x.repeat(3, 1, 1))\n",
    "                       ])),\n",
    "        batch_size=25, shuffle=True)\n",
    "source_test = torch.utils.data.DataLoader(\n",
    "        datasets.MNIST('./', train=False, transform=transforms.Compose([\n",
    "                           transforms.ToTensor(),\n",
    "                           transforms.Normalize((0.1307,), (0.3081,)),\n",
    "                           transforms.Lambda(lambda x: x.repeat(3, 1, 1))\n",
    "                       ])),\n",
    "        batch_size=25, shuffle=False)"
   ]
  },
  {
   "cell_type": "code",
   "execution_count": 5,
   "metadata": {
    "ExecuteTime": {
     "end_time": "2018-06-29T16:30:33.917329Z",
     "start_time": "2018-06-29T16:30:33.768317Z"
    },
    "collapsed": true
   },
   "outputs": [],
   "source": [
    "class GetLoader(data.Dataset):\n",
    "    def __init__(self, data_root, data_list, transform=None):\n",
    "        self.root = data_root\n",
    "        self.transform = transform\n",
    "\n",
    "        f = open(data_list, 'r')\n",
    "        data_list = f.readlines()\n",
    "        f.close()\n",
    "\n",
    "        self.n_data = len(data_list)\n",
    "\n",
    "        self.img_paths = []\n",
    "        self.img_labels = []\n",
    "\n",
    "        for data in data_list:\n",
    "            self.img_paths.append(data[:-3])\n",
    "            self.img_labels.append(data[-2])\n",
    "\n",
    "    def __getitem__(self, item):\n",
    "        img_paths, labels = self.img_paths[item], self.img_labels[item]\n",
    "        imgs = Image.open(os.path.join(self.root, img_paths)).convert('RGB')\n",
    "\n",
    "        if self.transform is not None:\n",
    "            imgs = self.transform(imgs)\n",
    "            labels = int(labels)\n",
    "\n",
    "        return imgs, labels\n",
    "\n",
    "    def __len__(self):\n",
    "        return self.n_data"
   ]
  },
  {
   "cell_type": "code",
   "execution_count": 6,
   "metadata": {
    "ExecuteTime": {
     "end_time": "2018-06-29T16:30:34.046886Z",
     "start_time": "2018-06-29T16:30:33.918797Z"
    }
   },
   "outputs": [],
   "source": [
    "image_size=28\n",
    "img_transform = transforms.Compose([\n",
    "    transforms.Resize(image_size),\n",
    "    transforms.ToTensor(),\n",
    "    transforms.Normalize(mean=(0.40824443831346119, 0.46209181664543181, 0.45790558913705282), \n",
    "                         std=(0.25870560685997501, 0.23677806687215142, 0.25194991442789383))\n",
    "])\n",
    "train_list = os.path.join('mnist_m', 'mnist_m_train_labels.txt')\n",
    "dataset_target = GetLoader(\n",
    "    data_root=os.path.join('mnist_m', 'mnist_m_train'),\n",
    "    data_list=train_list,\n",
    "    transform=img_transform\n",
    ")\n",
    "target_train = torch.utils.data.DataLoader(dataset_target,batch_size=25, shuffle=True)"
   ]
  },
  {
   "cell_type": "code",
   "execution_count": 7,
   "metadata": {
    "ExecuteTime": {
     "end_time": "2018-06-29T16:30:34.186792Z",
     "start_time": "2018-06-29T16:30:34.048385Z"
    }
   },
   "outputs": [],
   "source": [
    "#device='cuda'\n",
    "model = Dann()#.to(device)\n",
    "optimizer = optim.Adam(model.parameters())\n",
    "criterion = nn.CrossEntropyLoss()"
   ]
  },
  {
   "cell_type": "code",
   "execution_count": 8,
   "metadata": {
    "ExecuteTime": {
     "end_time": "2018-06-29T16:30:34.283432Z",
     "start_time": "2018-06-29T16:30:34.188296Z"
    },
    "collapsed": true
   },
   "outputs": [],
   "source": [
    "def test(epoch):\n",
    "    model.eval()\n",
    "    test_loss = 0\n",
    "    correct = 0\n",
    "    with torch.no_grad():\n",
    "        for data, target in source_test:\n",
    "            data, target = data, target\n",
    "            output,_ = model(data)\n",
    "            test_loss += criterion(output, target).item() # sum up batch loss\n",
    "            pred = output.max(1, keepdim=True)[1] # get the index of the max log-probability\n",
    "            correct += pred.eq(target.view_as(pred)).sum().item()\n",
    "\n",
    "    test_loss /= len(source_test.dataset)\n",
    "    print('\\nTest set: Average loss: {:.4f}, Accuracy: {}/{} ({:.0f}%)\\n'.format(\n",
    "        test_loss, correct, len(source_test.dataset),\n",
    "        100. * correct / len(source_test.dataset)))\n",
    "    \n",
    "    model.eval()\n",
    "    test_loss = 0\n",
    "    correct = 0\n",
    "    with torch.no_grad():\n",
    "        for data, target in target_train:\n",
    "            output,_ = model(data)\n",
    "            test_loss += criterion(output, target).item() # sum up batch loss\n",
    "            pred = output.max(1, keepdim=True)[1] # get the index of the max log-probability\n",
    "            correct += pred.eq(target.view_as(pred)).sum().item()\n",
    "\n",
    "    test_loss /= len(target_train.dataset)\n",
    "    print('\\nTest set: Average loss: {:.4f}, Accuracy: {}/{} ({:.0f}%)\\n'.format(\n",
    "        test_loss, correct, len(target_train.dataset),\n",
    "        100. * correct / len(target_train.dataset)))"
   ]
  },
  {
   "cell_type": "code",
   "execution_count": null,
   "metadata": {
    "ExecuteTime": {
     "start_time": "2018-06-29T16:30:33.050Z"
    }
   },
   "outputs": [
    {
     "data": {
      "text/plain": [
       "(59001, 2400)"
      ]
     },
     "execution_count": 9,
     "metadata": {},
     "output_type": "execute_result"
    }
   ],
   "source": [
    "len(dataset_target),len(source_train)"
   ]
  },
  {
   "cell_type": "code",
   "execution_count": null,
   "metadata": {
    "ExecuteTime": {
     "start_time": "2018-06-29T16:30:33.057Z"
    },
    "scrolled": true
   },
   "outputs": [
    {
     "name": "stdout",
     "output_type": "stream",
     "text": [
      "epoch: 0, [iter: 1 / all 2400], err_s_label: 2.321313, err_s_domain: 0.779572, err_t_domain: 0.615857\n",
      "epoch: 0, [iter: 2 / all 2400], err_s_label: 2.248077, err_s_domain: 0.809288, err_t_domain: 0.596789\n",
      "epoch: 0, [iter: 3 / all 2400], err_s_label: 2.324873, err_s_domain: 0.852448, err_t_domain: 0.569518\n",
      "epoch: 0, [iter: 4 / all 2400], err_s_label: 2.231906, err_s_domain: 0.926140, err_t_domain: 0.522205\n",
      "epoch: 0, [iter: 5 / all 2400], err_s_label: 2.291523, err_s_domain: 1.008388, err_t_domain: 0.489156\n",
      "epoch: 0, [iter: 6 / all 2400], err_s_label: 2.257241, err_s_domain: 1.105358, err_t_domain: 0.444690\n",
      "epoch: 0, [iter: 7 / all 2400], err_s_label: 2.230206, err_s_domain: 1.230088, err_t_domain: 0.398159\n",
      "epoch: 0, [iter: 8 / all 2400], err_s_label: 2.207369, err_s_domain: 1.374983, err_t_domain: 0.370784\n",
      "epoch: 0, [iter: 9 / all 2400], err_s_label: 2.180142, err_s_domain: 1.535119, err_t_domain: 0.339016\n",
      "epoch: 0, [iter: 10 / all 2400], err_s_label: 2.520883, err_s_domain: 1.703441, err_t_domain: 0.349479\n",
      "epoch: 0, [iter: 11 / all 2400], err_s_label: 2.165653, err_s_domain: 1.913988, err_t_domain: 0.330552\n",
      "epoch: 0, [iter: 12 / all 2400], err_s_label: 2.297290, err_s_domain: 2.117558, err_t_domain: 0.311666\n",
      "epoch: 0, [iter: 13 / all 2400], err_s_label: 2.564404, err_s_domain: 2.334441, err_t_domain: 0.332717\n",
      "epoch: 0, [iter: 14 / all 2400], err_s_label: 2.072534, err_s_domain: 2.581212, err_t_domain: 0.292612\n",
      "epoch: 0, [iter: 15 / all 2400], err_s_label: 2.441040, err_s_domain: 2.819428, err_t_domain: 0.324172\n",
      "epoch: 0, [iter: 16 / all 2400], err_s_label: 2.526705, err_s_domain: 3.054811, err_t_domain: 0.338459\n",
      "epoch: 0, [iter: 17 / all 2400], err_s_label: 2.483185, err_s_domain: 3.251622, err_t_domain: 0.306125\n",
      "epoch: 0, [iter: 18 / all 2400], err_s_label: 2.251137, err_s_domain: 3.517367, err_t_domain: 0.368478\n",
      "epoch: 0, [iter: 19 / all 2400], err_s_label: 2.453512, err_s_domain: 3.745815, err_t_domain: 0.367942\n",
      "epoch: 0, [iter: 20 / all 2400], err_s_label: 2.181165, err_s_domain: 3.988602, err_t_domain: 0.408115\n",
      "epoch: 0, [iter: 21 / all 2400], err_s_label: 2.040175, err_s_domain: 4.189843, err_t_domain: 0.334889\n",
      "epoch: 0, [iter: 22 / all 2400], err_s_label: 2.240837, err_s_domain: 4.369106, err_t_domain: 0.386819\n",
      "epoch: 0, [iter: 23 / all 2400], err_s_label: 2.231226, err_s_domain: 4.549278, err_t_domain: 0.370694\n",
      "epoch: 0, [iter: 24 / all 2400], err_s_label: 2.370332, err_s_domain: 4.733881, err_t_domain: 0.394222\n",
      "epoch: 0, [iter: 25 / all 2400], err_s_label: 2.220069, err_s_domain: 4.883978, err_t_domain: 0.339963\n",
      "epoch: 0, [iter: 26 / all 2400], err_s_label: 2.332318, err_s_domain: 5.006726, err_t_domain: 0.340669\n",
      "epoch: 0, [iter: 27 / all 2400], err_s_label: 2.239136, err_s_domain: 5.106605, err_t_domain: 0.406680\n",
      "epoch: 0, [iter: 28 / all 2400], err_s_label: 2.162668, err_s_domain: 5.227076, err_t_domain: 0.347357\n",
      "epoch: 0, [iter: 29 / all 2400], err_s_label: 2.208793, err_s_domain: 5.339425, err_t_domain: 0.393255\n",
      "epoch: 0, [iter: 30 / all 2400], err_s_label: 2.208281, err_s_domain: 5.409597, err_t_domain: 0.369643\n",
      "epoch: 0, [iter: 31 / all 2400], err_s_label: 2.386644, err_s_domain: 5.475801, err_t_domain: 0.401063\n",
      "epoch: 0, [iter: 32 / all 2400], err_s_label: 2.296145, err_s_domain: 5.502043, err_t_domain: 0.403901\n",
      "epoch: 0, [iter: 33 / all 2400], err_s_label: 2.189842, err_s_domain: 5.537449, err_t_domain: 0.374732\n",
      "epoch: 0, [iter: 34 / all 2400], err_s_label: 2.321948, err_s_domain: 5.534226, err_t_domain: 0.388020\n",
      "epoch: 0, [iter: 35 / all 2400], err_s_label: 2.356559, err_s_domain: 5.505455, err_t_domain: 0.385231\n",
      "epoch: 0, [iter: 36 / all 2400], err_s_label: 2.465716, err_s_domain: 5.511923, err_t_domain: 0.435039\n",
      "epoch: 0, [iter: 37 / all 2400], err_s_label: 2.253352, err_s_domain: 5.437881, err_t_domain: 0.365791\n",
      "epoch: 0, [iter: 38 / all 2400], err_s_label: 2.267230, err_s_domain: 5.384939, err_t_domain: 0.404261\n",
      "epoch: 0, [iter: 39 / all 2400], err_s_label: 2.287499, err_s_domain: 5.259090, err_t_domain: 0.428240\n",
      "epoch: 0, [iter: 40 / all 2400], err_s_label: 2.336062, err_s_domain: 5.166414, err_t_domain: 0.382368\n",
      "epoch: 0, [iter: 41 / all 2400], err_s_label: 2.209289, err_s_domain: 5.068055, err_t_domain: 0.376537\n",
      "epoch: 0, [iter: 42 / all 2400], err_s_label: 2.167351, err_s_domain: 4.936256, err_t_domain: 0.335343\n",
      "epoch: 0, [iter: 43 / all 2400], err_s_label: 2.226287, err_s_domain: 4.753835, err_t_domain: 0.413862\n",
      "epoch: 0, [iter: 44 / all 2400], err_s_label: 2.262599, err_s_domain: 4.550531, err_t_domain: 0.441523\n",
      "epoch: 0, [iter: 45 / all 2400], err_s_label: 2.219881, err_s_domain: 4.429478, err_t_domain: 0.427929\n",
      "epoch: 0, [iter: 46 / all 2400], err_s_label: 2.164136, err_s_domain: 4.268694, err_t_domain: 0.410183\n",
      "epoch: 0, [iter: 47 / all 2400], err_s_label: 2.304025, err_s_domain: 4.094241, err_t_domain: 0.441790\n",
      "epoch: 0, [iter: 48 / all 2400], err_s_label: 2.128485, err_s_domain: 3.919888, err_t_domain: 0.358247\n",
      "epoch: 0, [iter: 49 / all 2400], err_s_label: 2.117306, err_s_domain: 3.707931, err_t_domain: 0.372021\n",
      "epoch: 0, [iter: 50 / all 2400], err_s_label: 2.472362, err_s_domain: 3.529572, err_t_domain: 0.416376\n",
      "epoch: 0, [iter: 51 / all 2400], err_s_label: 2.197126, err_s_domain: 3.324214, err_t_domain: 0.407416\n",
      "epoch: 0, [iter: 52 / all 2400], err_s_label: 2.287318, err_s_domain: 3.104917, err_t_domain: 0.422155\n",
      "epoch: 0, [iter: 53 / all 2400], err_s_label: 2.180755, err_s_domain: 2.875163, err_t_domain: 0.394499\n",
      "epoch: 0, [iter: 54 / all 2400], err_s_label: 1.942446, err_s_domain: 2.656767, err_t_domain: 0.435808\n",
      "epoch: 0, [iter: 55 / all 2400], err_s_label: 2.065929, err_s_domain: 2.444833, err_t_domain: 0.485650\n",
      "epoch: 0, [iter: 56 / all 2400], err_s_label: 2.061136, err_s_domain: 2.219063, err_t_domain: 0.437155\n",
      "epoch: 0, [iter: 57 / all 2400], err_s_label: 2.078344, err_s_domain: 2.003244, err_t_domain: 0.468724\n",
      "epoch: 0, [iter: 58 / all 2400], err_s_label: 2.078460, err_s_domain: 1.794333, err_t_domain: 0.490096\n",
      "epoch: 0, [iter: 59 / all 2400], err_s_label: 2.039472, err_s_domain: 1.581242, err_t_domain: 0.515118\n",
      "epoch: 0, [iter: 60 / all 2400], err_s_label: 1.953153, err_s_domain: 1.391199, err_t_domain: 0.516659\n",
      "epoch: 0, [iter: 61 / all 2400], err_s_label: 2.116607, err_s_domain: 1.228301, err_t_domain: 0.501231\n",
      "epoch: 0, [iter: 62 / all 2400], err_s_label: 1.933243, err_s_domain: 1.072065, err_t_domain: 0.568558\n",
      "epoch: 0, [iter: 63 / all 2400], err_s_label: 2.017560, err_s_domain: 0.934267, err_t_domain: 0.581572\n",
      "epoch: 0, [iter: 64 / all 2400], err_s_label: 2.157790, err_s_domain: 0.809138, err_t_domain: 0.639419\n",
      "epoch: 0, [iter: 65 / all 2400], err_s_label: 1.937704, err_s_domain: 0.705590, err_t_domain: 0.684203\n",
      "epoch: 0, [iter: 66 / all 2400], err_s_label: 1.944095, err_s_domain: 0.621846, err_t_domain: 0.745955\n",
      "epoch: 0, [iter: 67 / all 2400], err_s_label: 2.257047, err_s_domain: 0.545371, err_t_domain: 0.826152\n",
      "epoch: 0, [iter: 68 / all 2400], err_s_label: 2.035266, err_s_domain: 0.486771, err_t_domain: 0.905231\n",
      "epoch: 0, [iter: 69 / all 2400], err_s_label: 1.753860, err_s_domain: 0.441446, err_t_domain: 0.991716\n",
      "epoch: 0, [iter: 70 / all 2400], err_s_label: 1.958911, err_s_domain: 0.407164, err_t_domain: 1.048278\n",
      "epoch: 0, [iter: 71 / all 2400], err_s_label: 1.736232, err_s_domain: 0.373191, err_t_domain: 1.114697\n",
      "epoch: 0, [iter: 72 / all 2400], err_s_label: 1.942254, err_s_domain: 0.353740, err_t_domain: 1.161966\n",
      "epoch: 0, [iter: 73 / all 2400], err_s_label: 1.797810, err_s_domain: 0.335468, err_t_domain: 1.227031\n",
      "epoch: 0, [iter: 74 / all 2400], err_s_label: 1.844619, err_s_domain: 0.339982, err_t_domain: 1.265178\n",
      "epoch: 0, [iter: 75 / all 2400], err_s_label: 1.885452, err_s_domain: 0.329784, err_t_domain: 1.293348\n",
      "epoch: 0, [iter: 76 / all 2400], err_s_label: 1.623355, err_s_domain: 0.330200, err_t_domain: 1.281470\n",
      "epoch: 0, [iter: 77 / all 2400], err_s_label: 1.812936, err_s_domain: 0.334947, err_t_domain: 1.283044\n",
      "epoch: 0, [iter: 78 / all 2400], err_s_label: 1.651090, err_s_domain: 0.340235, err_t_domain: 1.278177\n",
      "epoch: 0, [iter: 79 / all 2400], err_s_label: 1.845858, err_s_domain: 0.351404, err_t_domain: 1.298291\n",
      "epoch: 0, [iter: 80 / all 2400], err_s_label: 1.626092, err_s_domain: 0.356593, err_t_domain: 1.265996\n"
     ]
    },
    {
     "name": "stdout",
     "output_type": "stream",
     "text": [
      "epoch: 0, [iter: 81 / all 2400], err_s_label: 1.829764, err_s_domain: 0.368907, err_t_domain: 1.237989\n",
      "epoch: 0, [iter: 82 / all 2400], err_s_label: 1.827657, err_s_domain: 0.379873, err_t_domain: 1.214653\n",
      "epoch: 0, [iter: 83 / all 2400], err_s_label: 1.435142, err_s_domain: 0.408505, err_t_domain: 1.156642\n",
      "epoch: 0, [iter: 84 / all 2400], err_s_label: 1.796778, err_s_domain: 0.418081, err_t_domain: 1.150382\n"
     ]
    }
   ],
   "source": [
    "for epoch in range(100):\n",
    "    len_dataloader = min(len(source_train), len(dataset_target))\n",
    "    data_source_iter = iter(source_train)\n",
    "    data_target_iter = iter(target_train)\n",
    "    i = 0\n",
    "    model.train()\n",
    "    while i < len_dataloader:\n",
    "        data_source = data_source_iter.next()\n",
    "        s_img, s_label = data_source\n",
    "\n",
    "        optimizer.zero_grad()\n",
    "        batch_size = len(s_label)\n",
    "\n",
    "        domain_label = torch.zeros(batch_size)\n",
    "        domain_label = domain_label.long()\n",
    "        \n",
    "\n",
    "        a,b = model(s_img)\n",
    "        err_s_label = criterion(a, s_label)\n",
    "        err_s_domain = criterion(b, domain_label)\n",
    "\n",
    "        # training model using target data\n",
    "        data_target = data_target_iter.next()\n",
    "        t_img, _ = data_target\n",
    "\n",
    "        batch_size = len(t_img)\n",
    "\n",
    "        input_img = torch.FloatTensor(batch_size, 3, image_size, image_size)\n",
    "        domain_label = torch.ones(batch_size)\n",
    "        domain_label = domain_label.long()\n",
    "\n",
    "\n",
    "\n",
    "        _, b = model(t_img)\n",
    "        err_t_domain = criterion(b, domain_label)\n",
    "        err = err_t_domain + err_s_domain + err_s_label\n",
    "        err.backward()\n",
    "        optimizer.step()\n",
    "\n",
    "        i += 1\n",
    "\n",
    "        print ('epoch: %d, [iter: %d / all %d], err_s_label: %f, err_s_domain: %f, err_t_domain: %f' \\\n",
    "              % (epoch, i, len_dataloader, err_s_label.cpu().data.numpy(),\n",
    "                 err_s_domain.cpu().data.numpy(), err_t_domain.cpu().data.numpy()))\n",
    "\n",
    "    test(epoch)"
   ]
  },
  {
   "cell_type": "code",
   "execution_count": null,
   "metadata": {
    "collapsed": true
   },
   "outputs": [],
   "source": []
  }
 ],
 "metadata": {
  "kernelspec": {
   "display_name": "Python 3",
   "language": "python",
   "name": "python3"
  },
  "language_info": {
   "codemirror_mode": {
    "name": "ipython",
    "version": 3
   },
   "file_extension": ".py",
   "mimetype": "text/x-python",
   "name": "python",
   "nbconvert_exporter": "python",
   "pygments_lexer": "ipython3",
   "version": "3.6.3"
  }
 },
 "nbformat": 4,
 "nbformat_minor": 2
}
